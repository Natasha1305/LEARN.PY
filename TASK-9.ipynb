{
  "nbformat": 4,
  "nbformat_minor": 0,
  "metadata": {
    "colab": {
      "name": "TASK 9.ipynb",
      "provenance": [],
      "include_colab_link": true
    },
    "kernelspec": {
      "name": "python3",
      "display_name": "Python 3"
    },
    "language_info": {
      "name": "python"
    }
  },
  "cells": [
    {
      "cell_type": "markdown",
      "metadata": {
        "id": "view-in-github",
        "colab_type": "text"
      },
      "source": [
        "<a href=\"https://colab.research.google.com/github/Natasha1305/LEARN.PY/blob/main/TASK-9.ipynb\" target=\"_parent\"><img src=\"https://colab.research.google.com/assets/colab-badge.svg\" alt=\"Open In Colab\"/></a>"
      ]
    },
    {
      "cell_type": "markdown",
      "metadata": {
        "id": "CBOQ3rFElEb0"
      },
      "source": [
        "1. Create an 4x4 array containing the values ranging from 0 - 15 (use arange function). Then ,\n",
        "  \n",
        "  a) split it equally along horizontal.\n",
        "\n",
        "  b) split it as 4 parts vertically.\n",
        "\n"
      ]
    },
    {
      "cell_type": "code",
      "metadata": {
        "id": "pKy4fjS_m3XD"
      },
      "source": [
        "#please provide your answer below this line\n",
        "import numpy as np\n",
        "a = np.arange(16).reshape(4,4)\n",
        "print(a)\n",
        "print(\"\\n\")\n",
        "splitA = np.vsplit(a,2)\n",
        "print(splitA)\n",
        "print(\"\\n\")\n",
        "splitB = np.hsplit(a,4)\n",
        "print(splitB)\n",
        "\n"
      ],
      "execution_count": null,
      "outputs": []
    },
    {
      "cell_type": "markdown",
      "metadata": {
        "id": "ORtqWRAeoMvn"
      },
      "source": [
        "2. Create a 3x3 matrix using random module and then,\n",
        "\n",
        "  a) Find the ceil of the matrix.\n",
        "  \n",
        "  b) Find the floor of the matrix."
      ]
    },
    {
      "cell_type": "code",
      "metadata": {
        "id": "kt_CO_v9qpU-"
      },
      "source": [
        "#please provide your answer below this line\n",
        "import numpy as np\n",
        "import math\n",
        "matrix = np.random.randn(3,3)\n",
        "print(matrix)\n",
        "\n",
        "print(\"\\n\")\n",
        "newArray = matrix.reshape(9)\n",
        "ceilArray = np.ceil(newArray)\n",
        "print(ceilArray)\n",
        "\n",
        "print(\"\\n\")\n",
        "floorArray = np.floor(newArray)\n",
        "print(floorArray)\n",
        "\n"
      ],
      "execution_count": null,
      "outputs": []
    },
    {
      "cell_type": "markdown",
      "metadata": {
        "id": "oln9t19WqzBb"
      },
      "source": [
        "3. Create a random 1x4 array and print the random array and its shape.\n",
        "    \n",
        "      (use the shape function for finding the shape & use the same random we created here for both the below operations.)\n",
        "\n",
        "  a) Squeeze the random array and print the squeezed array and its shape.\n",
        "  b) Expand the random array by one axis and print the expanded array and its shape."
      ]
    },
    {
      "cell_type": "code",
      "metadata": {
        "id": "cbGGwRo3vpVX"
      },
      "source": [
        "#please provide your answer below this line.\n",
        "import numpy as np\n",
        "Array = np.random.randn(1,4)\n",
        "print(Array)\n",
        "print(\"\\n\")\n",
        "print(Array.shape)\n",
        "\n",
        "print(\"\\n\")\n",
        "squeezeArray = np.squeeze(Array)\n",
        "print(squeezeArray)\n",
        "print(\"\\n\")\n",
        "print(squeezeArray.shape)\n",
        "\n",
        "print(\"\\n\")\n",
        "expandArray = np.expand_dims(Array, axis=1)\n",
        "print(expandArray)\n",
        "print(\"\\n\")\n",
        "print(expandArray.shape)\n",
        "\n",
        "\n"
      ],
      "execution_count": null,
      "outputs": []
    }
  ]
}