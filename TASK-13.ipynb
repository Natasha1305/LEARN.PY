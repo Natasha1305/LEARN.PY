{
  "nbformat": 4,
  "nbformat_minor": 0,
  "metadata": {
    "colab": {
      "name": " TASK -13.ipynb",
      "provenance": [],
      "include_colab_link": true
    },
    "kernelspec": {
      "name": "python3",
      "display_name": "Python 3"
    },
    "language_info": {
      "name": "python"
    }
  },
  "cells": [
    {
      "cell_type": "markdown",
      "metadata": {
        "id": "view-in-github",
        "colab_type": "text"
      },
      "source": [
        "<a href=\"https://colab.research.google.com/github/Natasha1305/LEARN.PY/blob/main/TASK-13.ipynb\" target=\"_parent\"><img src=\"https://colab.research.google.com/assets/colab-badge.svg\" alt=\"Open In Colab\"/></a>"
      ]
    },
    {
      "cell_type": "markdown",
      "metadata": {
        "id": "RUSoRkrOqNwf"
      },
      "source": [
        "1. Create a 3x3 array values ranging from 0-8.Find the sum of the elements in this array."
      ]
    },
    {
      "cell_type": "code",
      "metadata": {
        "id": "t01ATYQpqq8u"
      },
      "source": [
        "#please enter your code below this line.\n",
        "import numpy as np\n",
        "A = np.arange(9).reshape(3,3)\n",
        "print(\"A : \\n\", A)\n",
        "print(\"\\n\")\n",
        "\n",
        "sum = np.sum(A);\n",
        "print(\"The sum of the array is\", sum)\n",
        "\n"
      ],
      "execution_count": null,
      "outputs": []
    },
    {
      "cell_type": "markdown",
      "metadata": {
        "id": "k3Y7nQF7r3IW"
      },
      "source": [
        "2. Create a 3x3 array values ranging from 0-8.Find the row sum and column sum of this array."
      ]
    },
    {
      "cell_type": "code",
      "metadata": {
        "id": "BzvIlWfvsICv"
      },
      "source": [
        "#please enter your code below this line.\n",
        "import numpy as np\n",
        "A = np.arange(9).reshape(3,3)\n",
        "print(\"A : \\n\", A)\n",
        "print(\"\\n\")\n",
        "\n",
        "rowSum = np.sum(A,1)\n",
        "print(\"The row sum of A is\", rowSum)\n",
        "\n",
        "colSum = np.sum(A,0)\n",
        "print(\"The column sum of A is\", colSum)\n"
      ],
      "execution_count": null,
      "outputs": []
    },
    {
      "cell_type": "markdown",
      "metadata": {
        "id": "KOPMsbnrsgue"
      },
      "source": [
        "3. Create a 4x4 array values ranging from 0-15. Now,\n",
        "\n",
        "    a) Find the mininmum value in the array.\n",
        "    \n",
        "    b) Find the maximum value in the array.\n",
        "\n",
        "    c) Find the mean of the values in the array."
      ]
    },
    {
      "cell_type": "code",
      "metadata": {
        "id": "1UzITxp3WDaW"
      },
      "source": [
        "#please enter your code belowthis line.\n",
        "import numpy as np\n",
        "A = np.arange(16).reshape(4,4)\n",
        "print(\"A : \\n\", A)\n",
        "print(\"\\n\")\n",
        "\n",
        "print(\"The minimum value in the array is\",np.min(A))\n",
        "print(\"The maximum value in the array is\",np.max(A))\n",
        "print(\"The mean of the values in the array is\",np.mean(A))\n",
        "\n"
      ],
      "execution_count": null,
      "outputs": []
    },
    {
      "cell_type": "markdown",
      "metadata": {
        "id": "Pah9qGButoz2"
      },
      "source": [
        "4. Create an 10x10 array values ranging from 0-99.And ,\n",
        "\n",
        "    a) Print the 7th row.\n",
        "    \n",
        "    b) Print the rows from 4-8.\n",
        "\n",
        "    c) Print the value at the index 5,5.\n",
        "\n",
        "    d) Print the 5th colomn.\n",
        "\n",
        "    e) Print the columns from 2-5."
      ]
    },
    {
      "cell_type": "code",
      "metadata": {
        "id": "JFXPq0GkvhKi",
        "colab": {
          "base_uri": "https://localhost:8080/"
        },
        "outputId": "021f86e7-d524-4b8e-b383-95b815aacbb5"
      },
      "source": [
        "#please enter your code below this line.\n",
        "import numpy as np\n",
        "A = np.arange(100).reshape(10,10)\n",
        "print(\"A : \\n\", A)\n",
        "print(\"\\n\")\n",
        "\n",
        "print(\"The 7th row is\", A[7])\n",
        "print(\"\\n\")\n",
        "print(\"The 4-8th rows are : \\n\", A[4:8])\n",
        "print(\"\\n\")\n",
        "print(\"The value at index A[5][5] is :\", A[5][5])\n",
        "print(\"\\n\")\n",
        "print(\"The 5th column is :\", A[:,5])\n",
        "print(\"\\n\")\n",
        "print(\"The 2-5th columns are :\\n\", A[:,2:5])\n",
        "\n",
        "\n",
        "\n"
      ],
      "execution_count": 19,
      "outputs": [
        {
          "output_type": "stream",
          "name": "stdout",
          "text": [
            "A : \n",
            " [[ 0  1  2  3  4  5  6  7  8  9]\n",
            " [10 11 12 13 14 15 16 17 18 19]\n",
            " [20 21 22 23 24 25 26 27 28 29]\n",
            " [30 31 32 33 34 35 36 37 38 39]\n",
            " [40 41 42 43 44 45 46 47 48 49]\n",
            " [50 51 52 53 54 55 56 57 58 59]\n",
            " [60 61 62 63 64 65 66 67 68 69]\n",
            " [70 71 72 73 74 75 76 77 78 79]\n",
            " [80 81 82 83 84 85 86 87 88 89]\n",
            " [90 91 92 93 94 95 96 97 98 99]]\n",
            "\n",
            "\n",
            "The 7th row is [70 71 72 73 74 75 76 77 78 79]\n",
            "\n",
            "\n",
            "The 4-8th rows are : \n",
            " [[40 41 42 43 44 45 46 47 48 49]\n",
            " [50 51 52 53 54 55 56 57 58 59]\n",
            " [60 61 62 63 64 65 66 67 68 69]\n",
            " [70 71 72 73 74 75 76 77 78 79]]\n",
            "\n",
            "\n",
            "The value at index A[5][5] is : 55\n",
            "\n",
            "\n",
            "The 5th column is : [ 5 15 25 35 45 55 65 75 85 95]\n",
            "\n",
            "\n",
            "The 2-5th columns are :\n",
            " [[ 2  3  4]\n",
            " [12 13 14]\n",
            " [22 23 24]\n",
            " [32 33 34]\n",
            " [42 43 44]\n",
            " [52 53 54]\n",
            " [62 63 64]\n",
            " [72 73 74]\n",
            " [82 83 84]\n",
            " [92 93 94]]\n"
          ]
        }
      ]
    }
  ]
}