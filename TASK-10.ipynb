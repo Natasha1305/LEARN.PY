{
  "nbformat": 4,
  "nbformat_minor": 0,
  "metadata": {
    "colab": {
      "name": "TASK-10.ipynb",
      "provenance": [],
      "include_colab_link": true
    },
    "kernelspec": {
      "name": "python3",
      "display_name": "Python 3"
    },
    "language_info": {
      "name": "python"
    }
  },
  "cells": [
    {
      "cell_type": "markdown",
      "metadata": {
        "id": "view-in-github",
        "colab_type": "text"
      },
      "source": [
        "<a href=\"https://colab.research.google.com/github/Natasha1305/LEARN.PY/blob/main/TASK-10.ipynb\" target=\"_parent\"><img src=\"https://colab.research.google.com/assets/colab-badge.svg\" alt=\"Open In Colab\"/></a>"
      ]
    },
    {
      "cell_type": "markdown",
      "metadata": {
        "id": "VHKxwUewxOi2"
      },
      "source": [
        "1. Generate two  3 x 3 matrix and find it's dot product and take the transpose of the answer."
      ]
    },
    {
      "cell_type": "code",
      "metadata": {
        "id": "RdyKd1CAxZtR",
        "colab": {
          "base_uri": "https://localhost:8080/"
        },
        "outputId": "30f786f4-ac4e-4ac4-e52c-46e5bb8ab47f"
      },
      "source": [
        "#please provide your answer below this line.\n",
        "import numpy as np\n",
        "matrix1 = np.random.randn(3,3)\n",
        "matrix2 = np.random.randn(3,3)\n",
        "\n",
        "print(matrix1)\n",
        "print(\"\\n\")\n",
        "print(matrix2)\n",
        "\n",
        "print(\"\\n\")\n",
        "dotMatrix = matrix1.dot(matrix2)\n",
        "print(dotMatrix)\n",
        "\n",
        "print(\"\\n\")\n",
        "TMatrix = dotMatrix.transpose()\n",
        "print(TMatrix)\n"
      ],
      "execution_count": 9,
      "outputs": [
        {
          "output_type": "stream",
          "text": [
            "[[-0.63509414 -0.60649745 -1.32946409]\n",
            " [ 0.55098647 -1.1217482  -1.27327913]\n",
            " [-0.50401177  2.16431877  0.21225895]]\n",
            "\n",
            "\n",
            "[[ 1.1823587  -0.04896672 -0.04482684]\n",
            " [-0.1093743  -0.89928838  0.25000047]\n",
            " [ 0.59730557  0.42908436  1.30422332]]\n",
            "\n",
            "\n",
            "[[-1.47867016  0.00606234 -1.85707344]\n",
            " [ 0.01361736  0.43545096 -1.96577689]\n",
            " [-0.70586009 -1.83058993  0.84050703]]\n",
            "\n",
            "\n",
            "[[-1.47867016  0.01361736 -0.70586009]\n",
            " [ 0.00606234  0.43545096 -1.83058993]\n",
            " [-1.85707344 -1.96577689  0.84050703]]\n"
          ],
          "name": "stdout"
        }
      ]
    },
    {
      "cell_type": "markdown",
      "metadata": {
        "id": "9c9ZwiBxxf4t"
      },
      "source": [
        "2. Create a 3x3 matrix with elements [55,25,15], [30,44,2], [11,45,77] . Now find the determinant of the given matrix."
      ]
    },
    {
      "cell_type": "code",
      "metadata": {
        "id": "Anmr3C9KyNyy",
        "colab": {
          "base_uri": "https://localhost:8080/"
        },
        "outputId": "be94846f-202e-4c33-8b7b-1fddfae39809"
      },
      "source": [
        "#please provide your answer below this line.\n",
        "\n",
        "import numpy as np\n",
        "M = np.matrix('[55,25,15; 30,44,2; 11,45,77]')\n",
        "print(M)\n",
        "\n",
        "print(\"\\n\")\n",
        "det = np.linalg.det(M)\n",
        "print(int(det))\n"
      ],
      "execution_count": 10,
      "outputs": [
        {
          "output_type": "stream",
          "text": [
            "[[55 25 15]\n",
            " [30 44  2]\n",
            " [11 45 77]]\n",
            "\n",
            "\n",
            "137180\n"
          ],
          "name": "stdout"
        }
      ]
    }
  ]
}