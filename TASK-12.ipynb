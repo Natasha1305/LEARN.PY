{
  "nbformat": 4,
  "nbformat_minor": 0,
  "metadata": {
    "colab": {
      "name": "TASK -12.ipynb",
      "provenance": [],
      "include_colab_link": true
    },
    "kernelspec": {
      "name": "python3",
      "display_name": "Python 3"
    },
    "language_info": {
      "name": "python"
    }
  },
  "cells": [
    {
      "cell_type": "markdown",
      "metadata": {
        "id": "view-in-github",
        "colab_type": "text"
      },
      "source": [
        "<a href=\"https://colab.research.google.com/github/Natasha1305/LEARN.PY/blob/main/TASK-12.ipynb\" target=\"_parent\"><img src=\"https://colab.research.google.com/assets/colab-badge.svg\" alt=\"Open In Colab\"/></a>"
      ]
    },
    {
      "cell_type": "markdown",
      "metadata": {
        "id": "i9LeFsII-SAQ"
      },
      "source": [
        "1. Create an 4x4 array with elements ranging from 0-15. And find the trace of the array."
      ]
    },
    {
      "cell_type": "code",
      "metadata": {
        "id": "eT1ymGjZ-pOZ"
      },
      "source": [
        "#please type your answer below this line.\n",
        "import numpy as np\n",
        "A = np.arange(16).reshape(4,4)\n",
        "print(A);\n",
        "print(\"\\n\")\n",
        "trace = A.trace();\n",
        "print(\"Trace :\" ,trace)\n"
      ],
      "execution_count": null,
      "outputs": []
    },
    {
      "cell_type": "markdown",
      "metadata": {
        "id": "Hw69FYds-zww"
      },
      "source": [
        "2. Create a matrix with elements [6,1,1],[4,-2,5],[2,8,7].Now find the inverse this matrix."
      ]
    },
    {
      "cell_type": "code",
      "metadata": {
        "id": "IAhA-qIwAoxs"
      },
      "source": [
        "#please type your answer below this line.\n",
        "import numpy as np\n",
        "matrix = np.matrix('[6,1,1; 4,-2,5 ; 2,8,7]')\n",
        "print(\"A : \\n\\n\" , matrix)\n",
        "print(\"\\n\")\n",
        "\n",
        "inverse = np.linalg.inv(matrix)\n",
        "print(\"The inverse of  A is : \\n\\n\" , inverse)"
      ],
      "execution_count": null,
      "outputs": []
    },
    {
      "cell_type": "markdown",
      "metadata": {
        "id": "6B6aJDFKAz0B"
      },
      "source": [
        "3. Create an 3x3 array with elements ranging from 0-8. And find the norm this array."
      ]
    },
    {
      "cell_type": "code",
      "metadata": {
        "id": "49RVb-g3CXSk"
      },
      "source": [
        "#please type your answer below this line.\n",
        "Array = np.arange(9).reshape(3,3)\n",
        "print(\"The array is :\\n\\n\", Array)\n",
        "\n",
        "print(\"\\n\")\n",
        "norm = np.linalg.norm(Array)\n",
        "print(\"The norm is\", norm)\n"
      ],
      "execution_count": null,
      "outputs": []
    },
    {
      "cell_type": "markdown",
      "metadata": {
        "id": "pGKEu4lxDCJK"
      },
      "source": [
        "4. Create a 4x4 array whose value ranging from 0-15.And find the eigenvalues and eigenvectors of this array."
      ]
    },
    {
      "cell_type": "code",
      "metadata": {
        "id": "dyymkid0DTth"
      },
      "source": [
        "#please type your answer below this line.\n",
        "import numpy as np\n",
        "A = np.arange(16).reshape(4,4)\n",
        "print(A)\n",
        "\n",
        "B,C = np.linalg.eig(A)\n",
        "print(\"\\n\")\n",
        "print(\"Eigen values \\n\", B);\n",
        "print(\"\\n\")\n",
        "print(\"Eigen vectors \\n\", C);\n"
      ],
      "execution_count": null,
      "outputs": []
    }
  ]
}