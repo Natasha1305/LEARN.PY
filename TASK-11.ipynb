{
  "nbformat": 4,
  "nbformat_minor": 0,
  "metadata": {
    "colab": {
      "name": "TASK -11.ipynb",
      "provenance": [],
      "include_colab_link": true
    },
    "kernelspec": {
      "name": "python3",
      "display_name": "Python 3"
    },
    "language_info": {
      "name": "python"
    }
  },
  "cells": [
    {
      "cell_type": "markdown",
      "metadata": {
        "id": "view-in-github",
        "colab_type": "text"
      },
      "source": [
        "<a href=\"https://colab.research.google.com/github/Natasha1305/LEARN.PY/blob/main/TASK-11.ipynb\" target=\"_parent\"><img src=\"https://colab.research.google.com/assets/colab-badge.svg\" alt=\"Open In Colab\"/></a>"
      ]
    },
    {
      "cell_type": "markdown",
      "metadata": {
        "id": "Ud2gZIbu6E59"
      },
      "source": [
        "N.B: Please find the answers by applying the functions on the matrices"
      ]
    },
    {
      "cell_type": "markdown",
      "metadata": {
        "id": "_9JX1Vdn4sTN"
      },
      "source": [
        "1. Create 2 3×3 matrix with 0-8 and 10-19 as elements in each and perform the vectorize multiplication operations on the matrices.(Outer product, Dot product, Element wise product)."
      ]
    },
    {
      "cell_type": "code",
      "metadata": {
        "id": "aBzAn6Z75VQ6"
      },
      "source": [
        "#please type your answer below this \n",
        "import numpy as np;\n",
        "matrixA = np.arange(9).reshape(3,3);\n",
        "matrixB = np.arange(10,19).reshape(3,3);\n",
        "print(matrixA);\n",
        "print(\"\\n\");\n",
        "print(matrixB);\n",
        "print(\"\\n\");\n",
        "\n",
        "print(\"The outer product : \") ;\n",
        "print(\"\\n\");\n",
        "op = np.outer(matrixA,matrixB);\n",
        "print(op);\n",
        "print(\"\\n\");\n",
        "\n",
        "print(\"The dot product : \") ;\n",
        "print(\"\\n\");\n",
        "dp = np.dot(matrixA,matrixB);\n",
        "print(dp);\n",
        "print(\"\\n\");\n",
        "\n",
        "print(\"The element-wise product : \") ;\n",
        "print(\"\\n\");\n",
        "ep = np.multiply(matrixA,matrixB);\n",
        "print(ep);\n"
      ],
      "execution_count": null,
      "outputs": []
    },
    {
      "cell_type": "markdown",
      "metadata": {
        "id": "gJGtIjx25k92"
      },
      "source": [
        "2. Create a 4×4 matrix with 0-16  as elements in it. Add a scalar 4 to the matrix and also multiply it with [1,2,3,4] 1-D matrix by broadcasting. ( Please note to do both the addition and multiplication by broadcasting.)"
      ]
    },
    {
      "cell_type": "code",
      "metadata": {
        "id": "H7cznh8M56r-"
      },
      "source": [
        "#please type your answer below this line\n",
        "import numpy as np\n",
        "matrixA = np.arange(0,16).reshape(4,4)\n",
        "print(matrixA)\n",
        "\n",
        "scalar = 4;\n",
        "c = matrixA + scalar;\n",
        "print(\"\\n\");\n",
        "print(\"the matrix after addition with a scalar :\")\n",
        "print(c);\n",
        "print(\"\\n\");\n",
        "\n",
        "matrixB = np.arange(1,5);\n",
        "print(\"the matrix after multiplication with [1,2,3,4] :\")\n",
        "result = matrixA * matrixB;\n",
        "print(result);"
      ],
      "execution_count": null,
      "outputs": []
    }
  ]
}